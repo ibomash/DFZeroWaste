{
 "cells": [
  {
   "cell_type": "code",
   "execution_count": 3,
   "id": "39b5b531",
   "metadata": {},
   "outputs": [],
   "source": [
    "import pandas as pd"
   ]
  },
  {
   "cell_type": "code",
   "execution_count": 63,
   "id": "230d9cd2",
   "metadata": {},
   "outputs": [],
   "source": [
    "WASTE = 'waste (tons annual)'\n",
    "RECYCLING = 'recycling (tons annual)'\n",
    "POPULATION = 'population'\n",
    "\n",
    "DF_data = {2014: {WASTE: 5030, RECYCLING: 1270, POPULATION: 11001},\n",
    "           2019: {WASTE: 4930, RECYCLING: 1764, POPULATION: 11027},\n",
    "           2020: {WASTE: 5042, RECYCLING: 2101, POPULATION: 11541}}\n",
    "DF_data = pd.DataFrame(DF_data).transpose().reset_index().rename({'index': 'year'}, axis='columns')"
   ]
  },
  {
   "cell_type": "code",
   "execution_count": 64,
   "id": "d2a77335",
   "metadata": {},
   "outputs": [],
   "source": [
    "LB_PER_TON = 2000.0\n",
    "\n",
    "RECYCLING_RATE = 'recycling rate'\n",
    "WASTE_PPD = 'waste (pounds per person per day)'\n",
    "\n",
    "DF_data[RECYCLING_RATE] = DF_data[RECYCLING] / (DF_data[RECYCLING] + DF_data[WASTE])\n",
    "DF_data[WASTE_PPD] = DF_data[WASTE] / DF_data[POPULATION] / 365.0 * LB_PER_TON"
   ]
  },
  {
   "cell_type": "code",
   "execution_count": 65,
   "id": "f034afe9",
   "metadata": {},
   "outputs": [],
   "source": [
    "WASTE_2014 = DF_data.set_index('year').loc[2014, WASTE]\n",
    "WASTE_TARGET_2020 = WASTE_2014 * 0.8\n",
    "WASTE_CHANGE_PER_YEAR = (WASTE_TARGET_2020 - WASTE_2014) / 6.0\n",
    "\n",
    "WASTE_TARGET = 'waste target (tons annual)'\n",
    "\n",
    "DF_data[WASTE_TARGET] = (DF_data['year'] - 2014) * WASTE_CHANGE_PER_YEAR + WASTE_2014"
   ]
  },
  {
   "cell_type": "code",
   "execution_count": 66,
   "id": "595cc655",
   "metadata": {},
   "outputs": [
    {
     "data": {
      "text/html": [
       "<div>\n",
       "<style scoped>\n",
       "    .dataframe tbody tr th:only-of-type {\n",
       "        vertical-align: middle;\n",
       "    }\n",
       "\n",
       "    .dataframe tbody tr th {\n",
       "        vertical-align: top;\n",
       "    }\n",
       "\n",
       "    .dataframe thead th {\n",
       "        text-align: right;\n",
       "    }\n",
       "</style>\n",
       "<table border=\"1\" class=\"dataframe\">\n",
       "  <thead>\n",
       "    <tr style=\"text-align: right;\">\n",
       "      <th></th>\n",
       "      <th>year</th>\n",
       "      <th>waste (tons annual)</th>\n",
       "      <th>recycling (tons annual)</th>\n",
       "      <th>population</th>\n",
       "      <th>recycling rate</th>\n",
       "      <th>waste (pounds per person per day)</th>\n",
       "      <th>waste target (tons annual)</th>\n",
       "    </tr>\n",
       "  </thead>\n",
       "  <tbody>\n",
       "    <tr>\n",
       "      <th>0</th>\n",
       "      <td>2014</td>\n",
       "      <td>5030</td>\n",
       "      <td>1270</td>\n",
       "      <td>11001</td>\n",
       "      <td>0.201587</td>\n",
       "      <td>2.505376</td>\n",
       "      <td>5030.000000</td>\n",
       "    </tr>\n",
       "    <tr>\n",
       "      <th>1</th>\n",
       "      <td>2019</td>\n",
       "      <td>4930</td>\n",
       "      <td>1764</td>\n",
       "      <td>11027</td>\n",
       "      <td>0.263520</td>\n",
       "      <td>2.449778</td>\n",
       "      <td>4191.666667</td>\n",
       "    </tr>\n",
       "    <tr>\n",
       "      <th>2</th>\n",
       "      <td>2020</td>\n",
       "      <td>5042</td>\n",
       "      <td>2101</td>\n",
       "      <td>11541</td>\n",
       "      <td>0.294134</td>\n",
       "      <td>2.393848</td>\n",
       "      <td>4024.000000</td>\n",
       "    </tr>\n",
       "  </tbody>\n",
       "</table>\n",
       "</div>"
      ],
      "text/plain": [
       "   year  waste (tons annual)  recycling (tons annual)  population  \\\n",
       "0  2014                 5030                     1270       11001   \n",
       "1  2019                 4930                     1764       11027   \n",
       "2  2020                 5042                     2101       11541   \n",
       "\n",
       "   recycling rate  waste (pounds per person per day)  \\\n",
       "0        0.201587                           2.505376   \n",
       "1        0.263520                           2.449778   \n",
       "2        0.294134                           2.393848   \n",
       "\n",
       "   waste target (tons annual)  \n",
       "0                 5030.000000  \n",
       "1                 4191.666667  \n",
       "2                 4024.000000  "
      ]
     },
     "execution_count": 66,
     "metadata": {},
     "output_type": "execute_result"
    }
   ],
   "source": [
    "DF_data"
   ]
  },
  {
   "cell_type": "code",
   "execution_count": 67,
   "id": "9898300a",
   "metadata": {},
   "outputs": [],
   "source": [
    "import altair as alt"
   ]
  },
  {
   "cell_type": "code",
   "execution_count": 90,
   "id": "6b2d1300",
   "metadata": {},
   "outputs": [],
   "source": [
    "def plot_horizontal_with_label(yval, scale_domain, label, color='green'):\n",
    "    horiz_line = alt.Chart().mark_rule(color=color, size=2).encode(y=alt.datum(yval))\n",
    "    text_mark = alt.Chart().encode(y=alt.datum(yval),\n",
    "                                   x=alt.XDatum(scale_domain[1], scale=alt.Scale(domain=scale_domain)),\n",
    "                                   text=alt.datum(label)).mark_text(baseline='bottom', align='right')\n",
    "    return horiz_line + text_mark"
   ]
  },
  {
   "cell_type": "markdown",
   "id": "072b8da2",
   "metadata": {},
   "source": [
    "## Waste totals"
   ]
  },
  {
   "cell_type": "code",
   "execution_count": 68,
   "id": "a0462120",
   "metadata": {},
   "outputs": [
    {
     "data": {
      "text/html": [
       "\n",
       "<div id=\"altair-viz-e0723571e83a46b8a98173e69f817996\"></div>\n",
       "<script type=\"text/javascript\">\n",
       "  var VEGA_DEBUG = (typeof VEGA_DEBUG == \"undefined\") ? {} : VEGA_DEBUG;\n",
       "  (function(spec, embedOpt){\n",
       "    let outputDiv = document.currentScript.previousElementSibling;\n",
       "    if (outputDiv.id !== \"altair-viz-e0723571e83a46b8a98173e69f817996\") {\n",
       "      outputDiv = document.getElementById(\"altair-viz-e0723571e83a46b8a98173e69f817996\");\n",
       "    }\n",
       "    const paths = {\n",
       "      \"vega\": \"https://cdn.jsdelivr.net/npm//vega@5?noext\",\n",
       "      \"vega-lib\": \"https://cdn.jsdelivr.net/npm//vega-lib?noext\",\n",
       "      \"vega-lite\": \"https://cdn.jsdelivr.net/npm//vega-lite@4.17.0?noext\",\n",
       "      \"vega-embed\": \"https://cdn.jsdelivr.net/npm//vega-embed@6?noext\",\n",
       "    };\n",
       "\n",
       "    function maybeLoadScript(lib, version) {\n",
       "      var key = `${lib.replace(\"-\", \"\")}_version`;\n",
       "      return (VEGA_DEBUG[key] == version) ?\n",
       "        Promise.resolve(paths[lib]) :\n",
       "        new Promise(function(resolve, reject) {\n",
       "          var s = document.createElement('script');\n",
       "          document.getElementsByTagName(\"head\")[0].appendChild(s);\n",
       "          s.async = true;\n",
       "          s.onload = () => {\n",
       "            VEGA_DEBUG[key] = version;\n",
       "            return resolve(paths[lib]);\n",
       "          };\n",
       "          s.onerror = () => reject(`Error loading script: ${paths[lib]}`);\n",
       "          s.src = paths[lib];\n",
       "        });\n",
       "    }\n",
       "\n",
       "    function showError(err) {\n",
       "      outputDiv.innerHTML = `<div class=\"error\" style=\"color:red;\">${err}</div>`;\n",
       "      throw err;\n",
       "    }\n",
       "\n",
       "    function displayChart(vegaEmbed) {\n",
       "      vegaEmbed(outputDiv, spec, embedOpt)\n",
       "        .catch(err => showError(`Javascript Error: ${err.message}<br>This usually means there's a typo in your chart specification. See the javascript console for the full traceback.`));\n",
       "    }\n",
       "\n",
       "    if(typeof define === \"function\" && define.amd) {\n",
       "      requirejs.config({paths});\n",
       "      require([\"vega-embed\"], displayChart, err => showError(`Error loading script: ${err.message}`));\n",
       "    } else {\n",
       "      maybeLoadScript(\"vega\", \"5\")\n",
       "        .then(() => maybeLoadScript(\"vega-lite\", \"4.17.0\"))\n",
       "        .then(() => maybeLoadScript(\"vega-embed\", \"6\"))\n",
       "        .catch(showError)\n",
       "        .then(() => displayChart(vegaEmbed));\n",
       "    }\n",
       "  })({\"config\": {\"view\": {\"continuousWidth\": 400, \"continuousHeight\": 300}}, \"layer\": [{\"mark\": {\"type\": \"line\", \"color\": \"red\", \"point\": {\"color\": \"red\"}}, \"encoding\": {\"x\": {\"axis\": {\"format\": \".0f\"}, \"field\": \"year\", \"scale\": {\"domain\": [2014, 2020]}, \"type\": \"quantitative\"}, \"y\": {\"field\": \"waste (tons annual)\", \"type\": \"quantitative\"}}}, {\"mark\": {\"type\": \"line\", \"point\": true}, \"encoding\": {\"x\": {\"axis\": {\"format\": \".0f\"}, \"field\": \"year\", \"scale\": {\"domain\": [2014, 2020]}, \"type\": \"quantitative\"}, \"y\": {\"field\": \"recycling (tons annual)\", \"type\": \"quantitative\"}}}, {\"mark\": {\"type\": \"line\", \"color\": \"green\", \"size\": 2, \"strokeDash\": [12, 6]}, \"encoding\": {\"x\": {\"axis\": {\"format\": \".0f\"}, \"field\": \"year\", \"scale\": {\"domain\": [2014, 2020]}, \"type\": \"quantitative\"}, \"y\": {\"field\": \"waste target (tons annual)\", \"type\": \"quantitative\"}}}], \"data\": {\"name\": \"data-3d4b09771237e138e633c201baac6d94\"}, \"height\": 360, \"title\": \"Dobbs Ferry recycling and waste totals vs targets\", \"width\": 600, \"$schema\": \"https://vega.github.io/schema/vega-lite/v4.17.0.json\", \"datasets\": {\"data-3d4b09771237e138e633c201baac6d94\": [{\"year\": 2014, \"waste (tons annual)\": 5030, \"recycling (tons annual)\": 1270, \"population\": 11001, \"recycling rate\": 0.2015873015873016, \"waste (pounds per person per day)\": 2.5053762235811687, \"waste target (tons annual)\": 5030.0}, {\"year\": 2019, \"waste (tons annual)\": 4930, \"recycling (tons annual)\": 1764, \"population\": 11027, \"recycling rate\": 0.26351956976396773, \"waste (pounds per person per day)\": 2.4497776938548097, \"waste target (tons annual)\": 4191.666666666667}, {\"year\": 2020, \"waste (tons annual)\": 5042, \"recycling (tons annual)\": 2101, \"population\": 11541, \"recycling rate\": 0.29413411731765365, \"waste (pounds per person per day)\": 2.393847782711548, \"waste target (tons annual)\": 4024.0}]}}, {\"mode\": \"vega-lite\"});\n",
       "</script>"
      ],
      "text/plain": [
       "alt.LayerChart(...)"
      ]
     },
     "execution_count": 68,
     "metadata": {},
     "output_type": "execute_result"
    }
   ],
   "source": [
    "waste_line = alt.Chart(DF_data).mark_line(color='red', point=alt.OverlayMarkDef(color=\"red\")).encode(alt.X('year:Q', scale=alt.Scale(domain=[2014, 2020]), axis=alt.Axis(format=\".0f\")), y=WASTE)\n",
    "recycle_line = alt.Chart(DF_data).mark_line(point=True).encode(alt.X('year:Q', scale=alt.Scale(domain=[2014, 2020]), axis=alt.Axis(format=\".0f\")), y=RECYCLING)\n",
    "goal_line = alt.Chart(DF_data).mark_line(strokeDash=[12, 6], size=2, color='green').encode(alt.X('year:Q', scale=alt.Scale(domain=[2014, 2020]), axis=alt.Axis(format=\".0f\")), y=WASTE_TARGET)\n",
    "(waste_line + recycle_line + goal_line).properties(\n",
    "    title=\"Dobbs Ferry recycling and waste totals vs targets\",\n",
    "    width=600,\n",
    "    height=360,\n",
    ")"
   ]
  },
  {
   "cell_type": "markdown",
   "id": "902f8082",
   "metadata": {},
   "source": [
    "## Rate vs average\n",
    "\n",
    "> In 2020, the County continued to demonstrate that it’s a regional leader in the field of environmental management by posting a recycling rate of 51.36%, far outpacing the EPA national average of 32.1%."
   ]
  },
  {
   "cell_type": "code",
   "execution_count": 92,
   "id": "d1b8db7d",
   "metadata": {},
   "outputs": [
    {
     "data": {
      "text/html": [
       "\n",
       "<div id=\"altair-viz-d17b88787af44ce288a68d7ad7483bca\"></div>\n",
       "<script type=\"text/javascript\">\n",
       "  var VEGA_DEBUG = (typeof VEGA_DEBUG == \"undefined\") ? {} : VEGA_DEBUG;\n",
       "  (function(spec, embedOpt){\n",
       "    let outputDiv = document.currentScript.previousElementSibling;\n",
       "    if (outputDiv.id !== \"altair-viz-d17b88787af44ce288a68d7ad7483bca\") {\n",
       "      outputDiv = document.getElementById(\"altair-viz-d17b88787af44ce288a68d7ad7483bca\");\n",
       "    }\n",
       "    const paths = {\n",
       "      \"vega\": \"https://cdn.jsdelivr.net/npm//vega@5?noext\",\n",
       "      \"vega-lib\": \"https://cdn.jsdelivr.net/npm//vega-lib?noext\",\n",
       "      \"vega-lite\": \"https://cdn.jsdelivr.net/npm//vega-lite@4.17.0?noext\",\n",
       "      \"vega-embed\": \"https://cdn.jsdelivr.net/npm//vega-embed@6?noext\",\n",
       "    };\n",
       "\n",
       "    function maybeLoadScript(lib, version) {\n",
       "      var key = `${lib.replace(\"-\", \"\")}_version`;\n",
       "      return (VEGA_DEBUG[key] == version) ?\n",
       "        Promise.resolve(paths[lib]) :\n",
       "        new Promise(function(resolve, reject) {\n",
       "          var s = document.createElement('script');\n",
       "          document.getElementsByTagName(\"head\")[0].appendChild(s);\n",
       "          s.async = true;\n",
       "          s.onload = () => {\n",
       "            VEGA_DEBUG[key] = version;\n",
       "            return resolve(paths[lib]);\n",
       "          };\n",
       "          s.onerror = () => reject(`Error loading script: ${paths[lib]}`);\n",
       "          s.src = paths[lib];\n",
       "        });\n",
       "    }\n",
       "\n",
       "    function showError(err) {\n",
       "      outputDiv.innerHTML = `<div class=\"error\" style=\"color:red;\">${err}</div>`;\n",
       "      throw err;\n",
       "    }\n",
       "\n",
       "    function displayChart(vegaEmbed) {\n",
       "      vegaEmbed(outputDiv, spec, embedOpt)\n",
       "        .catch(err => showError(`Javascript Error: ${err.message}<br>This usually means there's a typo in your chart specification. See the javascript console for the full traceback.`));\n",
       "    }\n",
       "\n",
       "    if(typeof define === \"function\" && define.amd) {\n",
       "      requirejs.config({paths});\n",
       "      require([\"vega-embed\"], displayChart, err => showError(`Error loading script: ${err.message}`));\n",
       "    } else {\n",
       "      maybeLoadScript(\"vega\", \"5\")\n",
       "        .then(() => maybeLoadScript(\"vega-lite\", \"4.17.0\"))\n",
       "        .then(() => maybeLoadScript(\"vega-embed\", \"6\"))\n",
       "        .catch(showError)\n",
       "        .then(() => displayChart(vegaEmbed));\n",
       "    }\n",
       "  })({\"config\": {\"view\": {\"continuousWidth\": 400, \"continuousHeight\": 300}}, \"layer\": [{\"data\": {\"name\": \"empty\"}, \"mark\": {\"type\": \"rule\", \"color\": \"green\", \"size\": 2}, \"encoding\": {\"y\": {\"datum\": 0.5136}}}, {\"data\": {\"name\": \"empty\"}, \"mark\": {\"type\": \"text\", \"align\": \"right\", \"baseline\": \"bottom\"}, \"encoding\": {\"text\": {\"datum\": \"Westchester recycling rate in 2020\"}, \"x\": {\"datum\": 2020, \"scale\": {\"domain\": [2014, 2020]}}, \"y\": {\"datum\": 0.5136}}}, {\"data\": {\"name\": \"data-3d4b09771237e138e633c201baac6d94\"}, \"mark\": {\"type\": \"line\", \"color\": \"blue\", \"point\": {\"color\": \"blue\"}}, \"encoding\": {\"x\": {\"axis\": {\"format\": \".0f\"}, \"field\": \"year\", \"scale\": {\"domain\": [2014, 2020]}, \"type\": \"quantitative\"}, \"y\": {\"field\": \"recycling rate\", \"type\": \"quantitative\"}}}, {\"layer\": [{\"data\": {\"name\": \"empty\"}, \"mark\": {\"type\": \"rule\", \"color\": \"green\", \"size\": 2}, \"encoding\": {\"y\": {\"datum\": 0.321}}}, {\"data\": {\"name\": \"empty\"}, \"mark\": {\"type\": \"text\", \"align\": \"right\", \"baseline\": \"bottom\"}, \"encoding\": {\"text\": {\"datum\": \"National recycling rate in 2020\"}, \"x\": {\"datum\": 2020, \"scale\": {\"domain\": [2014, 2020]}}, \"y\": {\"datum\": 0.321}}}]}], \"height\": 360, \"title\": \"Dobbs Ferry recycling rate vs target\", \"width\": 600, \"$schema\": \"https://vega.github.io/schema/vega-lite/v4.17.0.json\", \"datasets\": {\"empty\": [{}], \"data-3d4b09771237e138e633c201baac6d94\": [{\"year\": 2014, \"waste (tons annual)\": 5030, \"recycling (tons annual)\": 1270, \"population\": 11001, \"recycling rate\": 0.2015873015873016, \"waste (pounds per person per day)\": 2.5053762235811687, \"waste target (tons annual)\": 5030.0}, {\"year\": 2019, \"waste (tons annual)\": 4930, \"recycling (tons annual)\": 1764, \"population\": 11027, \"recycling rate\": 0.26351956976396773, \"waste (pounds per person per day)\": 2.4497776938548097, \"waste target (tons annual)\": 4191.666666666667}, {\"year\": 2020, \"waste (tons annual)\": 5042, \"recycling (tons annual)\": 2101, \"population\": 11541, \"recycling rate\": 0.29413411731765365, \"waste (pounds per person per day)\": 2.393847782711548, \"waste target (tons annual)\": 4024.0}]}}, {\"mode\": \"vega-lite\"});\n",
       "</script>"
      ],
      "text/plain": [
       "alt.LayerChart(...)"
      ]
     },
     "execution_count": 92,
     "metadata": {},
     "output_type": "execute_result"
    }
   ],
   "source": [
    "rate_line = alt.Chart(DF_data).mark_line(color='blue', point=alt.OverlayMarkDef(color=\"blue\")).encode(alt.X('year:Q', scale=alt.Scale(domain=[2014, 2020]), axis=alt.Axis(format=\".0f\")), y=RECYCLING_RATE)\n",
    "goal_line = plot_horizontal_with_label(0.5136, [2014, 2020], \"Westchester recycling rate in 2020\")\n",
    "goal_line2 = plot_horizontal_with_label(0.321, [2014, 2020], \"National recycling rate in 2020\")\n",
    "(goal_line + rate_line + goal_line2).properties(\n",
    "    title=\"Dobbs Ferry recycling rate vs target\",\n",
    "    width=600,\n",
    "    height=360,\n",
    ")"
   ]
  },
  {
   "cell_type": "markdown",
   "id": "d0bab25b",
   "metadata": {},
   "source": [
    "## PPD\n",
    "\n",
    "> The State’s Plan, “Beyond Waste,” challenged Planning Units to drastically reduce solid waste disposed (i.e., non-recyclable waste) to 0.6 pounds per person per day (“PPD”) by 2030. Westchester is working very hard to meet the State’s goal. In 2020, the County’s average of 3.7 PPD outperformed the New York State average of 4.5 PPD, as well as the national average of 4.9 PPD (2018 rate)."
   ]
  },
  {
   "cell_type": "code",
   "execution_count": 93,
   "id": "5329899e",
   "metadata": {},
   "outputs": [
    {
     "data": {
      "text/html": [
       "\n",
       "<div id=\"altair-viz-91d3949f428c4f3e9f6eb55d95a60a99\"></div>\n",
       "<script type=\"text/javascript\">\n",
       "  var VEGA_DEBUG = (typeof VEGA_DEBUG == \"undefined\") ? {} : VEGA_DEBUG;\n",
       "  (function(spec, embedOpt){\n",
       "    let outputDiv = document.currentScript.previousElementSibling;\n",
       "    if (outputDiv.id !== \"altair-viz-91d3949f428c4f3e9f6eb55d95a60a99\") {\n",
       "      outputDiv = document.getElementById(\"altair-viz-91d3949f428c4f3e9f6eb55d95a60a99\");\n",
       "    }\n",
       "    const paths = {\n",
       "      \"vega\": \"https://cdn.jsdelivr.net/npm//vega@5?noext\",\n",
       "      \"vega-lib\": \"https://cdn.jsdelivr.net/npm//vega-lib?noext\",\n",
       "      \"vega-lite\": \"https://cdn.jsdelivr.net/npm//vega-lite@4.17.0?noext\",\n",
       "      \"vega-embed\": \"https://cdn.jsdelivr.net/npm//vega-embed@6?noext\",\n",
       "    };\n",
       "\n",
       "    function maybeLoadScript(lib, version) {\n",
       "      var key = `${lib.replace(\"-\", \"\")}_version`;\n",
       "      return (VEGA_DEBUG[key] == version) ?\n",
       "        Promise.resolve(paths[lib]) :\n",
       "        new Promise(function(resolve, reject) {\n",
       "          var s = document.createElement('script');\n",
       "          document.getElementsByTagName(\"head\")[0].appendChild(s);\n",
       "          s.async = true;\n",
       "          s.onload = () => {\n",
       "            VEGA_DEBUG[key] = version;\n",
       "            return resolve(paths[lib]);\n",
       "          };\n",
       "          s.onerror = () => reject(`Error loading script: ${paths[lib]}`);\n",
       "          s.src = paths[lib];\n",
       "        });\n",
       "    }\n",
       "\n",
       "    function showError(err) {\n",
       "      outputDiv.innerHTML = `<div class=\"error\" style=\"color:red;\">${err}</div>`;\n",
       "      throw err;\n",
       "    }\n",
       "\n",
       "    function displayChart(vegaEmbed) {\n",
       "      vegaEmbed(outputDiv, spec, embedOpt)\n",
       "        .catch(err => showError(`Javascript Error: ${err.message}<br>This usually means there's a typo in your chart specification. See the javascript console for the full traceback.`));\n",
       "    }\n",
       "\n",
       "    if(typeof define === \"function\" && define.amd) {\n",
       "      requirejs.config({paths});\n",
       "      require([\"vega-embed\"], displayChart, err => showError(`Error loading script: ${err.message}`));\n",
       "    } else {\n",
       "      maybeLoadScript(\"vega\", \"5\")\n",
       "        .then(() => maybeLoadScript(\"vega-lite\", \"4.17.0\"))\n",
       "        .then(() => maybeLoadScript(\"vega-embed\", \"6\"))\n",
       "        .catch(showError)\n",
       "        .then(() => displayChart(vegaEmbed));\n",
       "    }\n",
       "  })({\"config\": {\"view\": {\"continuousWidth\": 400, \"continuousHeight\": 300}}, \"layer\": [{\"data\": {\"name\": \"empty\"}, \"mark\": {\"type\": \"rule\", \"color\": \"green\", \"size\": 2}, \"encoding\": {\"y\": {\"datum\": 3.7}}}, {\"data\": {\"name\": \"empty\"}, \"mark\": {\"type\": \"text\", \"align\": \"right\", \"baseline\": \"bottom\"}, \"encoding\": {\"text\": {\"datum\": \"County rate in 2020\"}, \"x\": {\"datum\": 2020, \"scale\": {\"domain\": [2014, 2020]}}, \"y\": {\"datum\": 3.7}}}, {\"layer\": [{\"data\": {\"name\": \"empty\"}, \"mark\": {\"type\": \"rule\", \"color\": \"green\", \"size\": 2}, \"encoding\": {\"y\": {\"datum\": 0.6}}}, {\"data\": {\"name\": \"empty\"}, \"mark\": {\"type\": \"text\", \"align\": \"right\", \"baseline\": \"bottom\"}, \"encoding\": {\"text\": {\"datum\": \"NYS goal for 2030\"}, \"x\": {\"datum\": 2020, \"scale\": {\"domain\": [2014, 2020]}}, \"y\": {\"datum\": 0.6}}}]}, {\"data\": {\"name\": \"data-3d4b09771237e138e633c201baac6d94\"}, \"mark\": {\"type\": \"line\", \"color\": \"red\", \"point\": {\"color\": \"red\"}}, \"encoding\": {\"x\": {\"axis\": {\"format\": \".0f\"}, \"field\": \"year\", \"scale\": {\"domain\": [2014, 2020]}, \"type\": \"quantitative\"}, \"y\": {\"field\": \"waste (pounds per person per day)\", \"type\": \"quantitative\"}}}], \"height\": 360, \"title\": \"Dobbs Ferry waste per person vs county average\", \"width\": 600, \"$schema\": \"https://vega.github.io/schema/vega-lite/v4.17.0.json\", \"datasets\": {\"empty\": [{}], \"data-3d4b09771237e138e633c201baac6d94\": [{\"year\": 2014, \"waste (tons annual)\": 5030, \"recycling (tons annual)\": 1270, \"population\": 11001, \"recycling rate\": 0.2015873015873016, \"waste (pounds per person per day)\": 2.5053762235811687, \"waste target (tons annual)\": 5030.0}, {\"year\": 2019, \"waste (tons annual)\": 4930, \"recycling (tons annual)\": 1764, \"population\": 11027, \"recycling rate\": 0.26351956976396773, \"waste (pounds per person per day)\": 2.4497776938548097, \"waste target (tons annual)\": 4191.666666666667}, {\"year\": 2020, \"waste (tons annual)\": 5042, \"recycling (tons annual)\": 2101, \"population\": 11541, \"recycling rate\": 0.29413411731765365, \"waste (pounds per person per day)\": 2.393847782711548, \"waste target (tons annual)\": 4024.0}]}}, {\"mode\": \"vega-lite\"});\n",
       "</script>"
      ],
      "text/plain": [
       "alt.LayerChart(...)"
      ]
     },
     "execution_count": 93,
     "metadata": {},
     "output_type": "execute_result"
    }
   ],
   "source": [
    "ppd_line = alt.Chart(DF_data).mark_line(color='red', point=alt.OverlayMarkDef(color=\"red\")).encode(alt.X('year:Q', scale=alt.Scale(domain=[2014, 2020]), axis=alt.Axis(format=\".0f\")), y=WASTE_PPD)\n",
    "\n",
    "\n",
    "goal_lines = plot_horizontal_with_label(3.7, [2014, 2020], \"County rate in 2020\")\n",
    "goal_lines = goal_lines + plot_horizontal_with_label(0.6, [2014, 2020], \"NYS goal for 2030\")\n",
    "(goal_lines + ppd_line).properties(\n",
    "    title=\"Dobbs Ferry waste per person vs county average\",\n",
    "    width=600,\n",
    "    height=360,\n",
    ")"
   ]
  },
  {
   "cell_type": "code",
   "execution_count": null,
   "id": "b2a4e6ec",
   "metadata": {},
   "outputs": [],
   "source": []
  }
 ],
 "metadata": {
  "interpreter": {
   "hash": "e3db9f1a70a09a21d13142b060fc0612dc5e3ca048e4b8219bd4f6fa98ef1674"
  },
  "kernelspec": {
   "display_name": "py3-setup",
   "language": "python",
   "name": "python3"
  },
  "language_info": {
   "codemirror_mode": {
    "name": "ipython",
    "version": 3
   },
   "file_extension": ".py",
   "mimetype": "text/x-python",
   "name": "python",
   "nbconvert_exporter": "python",
   "pygments_lexer": "ipython3",
   "version": "3.9.4"
  }
 },
 "nbformat": 4,
 "nbformat_minor": 5
}
